{
 "cells": [
  {
   "cell_type": "code",
   "execution_count": 57,
   "metadata": {},
   "outputs": [],
   "source": [
    "# Import Libraries\n",
    "import pandas as pd\n",
    "import matplotlib.pyplot as plt\n",
    "import numpy as np\n",
    "import seaborn as sns\n",
    "import matplotlib.dates as mdates\n",
    "from datetime import datetime"
   ]
  },
  {
   "cell_type": "code",
   "execution_count": 86,
   "metadata": {},
   "outputs": [],
   "source": [
    "# This function returns a boolean value to determine whether we should look at sympathy play.\n",
    "# If the return is greater than or less than 2 standard deviations from the mean return, multiplied\n",
    "# by the correlation between the two stocks, then we should look for sympathy play.\n",
    "\n",
    "# Stock 1 - dataframe of the stock who's return you are looking at\n",
    "# str1 - string code of stock 1 (ex. JNJ, LLY, etc.)\n",
    "# str2 - string code of the stock you are looking at for sympathy play\n",
    "# correlation - the correlation matrix we saved in getting_data.ipynb\n",
    "# metrics - the metrics df we saved in getting_data.ipynb\n",
    "# date_pos - the date you are looking at, either as the index of the dataframe or as a date string ('YYYY-MM-DD')\n",
    "def sympathyplay(stock1, str1, str2, correlation, metrics, date_pos):\n",
    "    prhs = (metrics[str1]['mean'] + 2*metrics[str1]['std'])*abs(correlation[str1][str2])\n",
    "    nrhs = (metrics[str1]['mean'] - 2*metrics[str1]['std'])*abs(correlation[str1][str2])\n",
    "    if stock1['Return'][date_pos] >= prhs or stock1['Return'][date_pos] <= nrhs:\n",
    "        return True\n",
    "    else:\n",
    "        return False"
   ]
  },
  {
   "cell_type": "code",
   "execution_count": 9,
   "metadata": {},
   "outputs": [],
   "source": [
    "# Be sure to change your sector path! This will read in all the data saved by getting_data.ipynb\n",
    "sector_path = 'data/Pharma/'\n",
    "correlation_matrix = pd.read_csv(f'{sector_path}Correlation.csv', index_col=0)\n",
    "df_metrics = pd.read_csv(f'{sector_path}Metrics.csv', index_col=0)\n",
    "stock_string = ['LLY', 'JNJ', 'ABBV', 'AZN', 'NVS', 'CVS', 'WBA', 'NVO',\n",
    "                'PFE', 'TCNNF', 'MRK']"
   ]
  },
  {
   "cell_type": "code",
   "execution_count": 101,
   "metadata": {},
   "outputs": [],
   "source": [
    "# These are the stocks in the phara sector, you should change these for your own sector.\n",
    "LLY = pd.read_csv(f'{sector_path}{stock_string[0]}.csv', index_col=0)\n",
    "JNJ = pd.read_csv(f'{sector_path}{stock_string[1]}.csv', index_col=0)\n",
    "ABBV = pd.read_csv(f'{sector_path}{stock_string[2]}.csv', index_col=0)\n",
    "AZN = pd.read_csv(f'{sector_path}{stock_string[3]}.csv', index_col=0)\n",
    "NVS = pd.read_csv(f'{sector_path}{stock_string[4]}.csv', index_col=0)\n",
    "CVS = pd.read_csv(f'{sector_path}{stock_string[5]}.csv', index_col=0)\n",
    "WBA = pd.read_csv(f'{sector_path}{stock_string[6]}.csv', index_col=0)\n",
    "NVO = pd.read_csv(f'{sector_path}{stock_string[7]}.csv', index_col=0)\n",
    "PFE = pd.read_csv(f'{sector_path}{stock_string[8]}.csv', index_col=0)\n",
    "TCNNF = pd.read_csv(f'{sector_path}{stock_string[9]}.csv', index_col=0)\n",
    "MRK = pd.read_csv(f'{sector_path}{stock_string[10]}.csv', index_col=0)"
   ]
  }
 ],
 "metadata": {
  "kernelspec": {
   "display_name": "erdos_may_2024",
   "language": "python",
   "name": "python3"
  },
  "language_info": {
   "codemirror_mode": {
    "name": "ipython",
    "version": 3
   },
   "file_extension": ".py",
   "mimetype": "text/x-python",
   "name": "python",
   "nbconvert_exporter": "python",
   "pygments_lexer": "ipython3",
   "version": "3.9.15"
  }
 },
 "nbformat": 4,
 "nbformat_minor": 2
}
